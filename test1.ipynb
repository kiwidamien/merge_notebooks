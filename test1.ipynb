{
 "cells": [
  {
   "cell_type": "code",
   "execution_count": 1,
   "id": "c701481a",
   "metadata": {
    "ExecuteTime": {
     "end_time": "2022-01-21T15:35:32.228194Z",
     "start_time": "2022-01-21T15:35:32.217420Z"
    }
   },
   "outputs": [],
   "source": [
    "from functools import lru_cache"
   ]
  },
  {
   "cell_type": "code",
   "execution_count": 2,
   "id": "c2db4932",
   "metadata": {
    "ExecuteTime": {
     "end_time": "2022-01-21T15:35:40.647772Z",
     "start_time": "2022-01-21T15:35:40.644412Z"
    }
   },
   "outputs": [],
   "source": [
    "@lru_cache\n",
    "def fib(n):\n",
    "    if n < 2:\n",
    "        return n\n",
    "    return fib(n-1) + fib(n-2)"
   ]
  },
  {
   "cell_type": "code",
   "execution_count": 3,
   "id": "2a889589",
   "metadata": {
    "ExecuteTime": {
     "end_time": "2022-01-21T15:35:57.980296Z",
     "start_time": "2022-01-21T15:35:57.976377Z"
    }
   },
   "outputs": [
    {
     "name": "stdout",
     "output_type": "stream",
     "text": [
      "The first fibonnaci number over 100 is 144\n"
     ]
    }
   ],
   "source": [
    "# first fib over 100?\n",
    "n = 0\n",
    "while fib(n) < 100:\n",
    "    n = n+1\n",
    "\n",
    "print(f\"The first fibonnaci number over 100 is {fib(n)}\")"
   ]
  },
  {
   "cell_type": "code",
   "execution_count": null,
   "id": "2119b485",
   "metadata": {},
   "outputs": [],
   "source": []
  }
 ],
 "metadata": {
  "kernelspec": {
   "display_name": "Python 3 (ipykernel)",
   "language": "python",
   "name": "python3"
  },
  "language_info": {
   "codemirror_mode": {
    "name": "ipython",
    "version": 3
   },
   "file_extension": ".py",
   "mimetype": "text/x-python",
   "name": "python",
   "nbconvert_exporter": "python",
   "pygments_lexer": "ipython3",
   "version": "3.9.7"
  }
 },
 "nbformat": 4,
 "nbformat_minor": 5
}
