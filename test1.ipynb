{
 "cells": [
  {
   "cell_type": "code",
   "execution_count": 1,
   "id": "c701481a",
   "metadata": {
    "ExecuteTime": {
     "end_time": "2022-01-21T15:35:32.228194Z",
     "start_time": "2022-01-21T15:35:32.217420Z"
    }
   },
   "outputs": [],
   "source": [
    "from functools import lru_cache"
   ]
  },
  {
   "cell_type": "code",
   "execution_count": 2,
   "id": "c2db4932",
   "metadata": {
    "ExecuteTime": {
     "end_time": "2022-01-21T15:35:40.647772Z",
     "start_time": "2022-01-21T15:35:40.644412Z"
    }
   },
   "outputs": [],
   "source": [
    "@lru_cache\n",
    "def fib(n):\n",
    "    if n < 2:\n",
    "        return n\n",
    "    return fib(n-1) + fib(n-2)"
   ]
  },
  {
   "cell_type": "code",
   "execution_count": 10,
   "id": "2a889589",
   "metadata": {
    "ExecuteTime": {
     "end_time": "2022-01-21T15:54:52.572802Z",
     "start_time": "2022-01-21T15:54:52.569465Z"
    }
   },
   "outputs": [
    {
     "name": "stdout",
     "output_type": "stream",
     "text": [
      "The first fibonnaci number over 200 is 233\n"
     ]
    }
   ],
   "source": [
    "# first fib over 200?\n",
    "n = 0\n",
    "while fib(n) < 200:\n",
    "    n = n+1\n",
    "\n",
    "print(f\"The first fibonnaci number over 200 is {fib(n)}\")"
   ]
  },
  {
   "cell_type": "markdown",
   "id": "3c810d1c",
   "metadata": {},
   "source": [
    "Let's look at an LRU cache that returns a mutable object"
   ]
  },
  {
   "cell_type": "code",
   "execution_count": 4,
   "id": "fb505c6c",
   "metadata": {
    "ExecuteTime": {
     "end_time": "2022-01-21T15:38:34.888728Z",
     "start_time": "2022-01-21T15:38:34.885426Z"
    }
   },
   "outputs": [],
   "source": [
    "def nocache(n):\n",
    "    return {'answer': n, 'status_code': 200}"
   ]
  },
  {
   "cell_type": "code",
   "execution_count": 6,
   "id": "e5db1a75",
   "metadata": {
    "ExecuteTime": {
     "end_time": "2022-01-21T15:39:01.206260Z",
     "start_time": "2022-01-21T15:39:01.203600Z"
    }
   },
   "outputs": [],
   "source": [
    "@lru_cache\n",
    "def cached(n):\n",
    "    return {'answer': n, 'status_code': 200}"
   ]
  },
  {
   "cell_type": "markdown",
   "id": "455e28ec",
   "metadata": {},
   "source": [
    "This is expected"
   ]
  },
  {
   "cell_type": "code",
   "execution_count": 8,
   "id": "d738f1c7",
   "metadata": {
    "ExecuteTime": {
     "end_time": "2022-01-21T15:40:01.520011Z",
     "start_time": "2022-01-21T15:40:01.516229Z"
    }
   },
   "outputs": [
    {
     "name": "stdout",
     "output_type": "stream",
     "text": [
      "{'answer': 11, 'status_code': 200}\n",
      "{'answer': 20, 'status_code': 200}\n"
     ]
    }
   ],
   "source": [
    "result = nocache(20)\n",
    "result['answer'] = 5+6\n",
    "# Note that we altered result, but can get a \"fresh\" copy from executing the function again\n",
    "print(result)\n",
    "print(nocache(20))"
   ]
  },
  {
   "cell_type": "markdown",
   "id": "2883c4cd",
   "metadata": {},
   "source": [
    "Let's see the problem with the cached version:"
   ]
  },
  {
   "cell_type": "code",
   "execution_count": 10,
   "id": "7269473b",
   "metadata": {
    "ExecuteTime": {
     "end_time": "2022-01-21T15:40:53.687847Z",
     "start_time": "2022-01-21T15:40:53.683964Z"
    }
   },
   "outputs": [
    {
     "name": "stdout",
     "output_type": "stream",
     "text": [
      "{'answer': 11, 'status_code': 200}\n",
      "{'answer': 11, 'status_code': 200}\n"
     ]
    }
   ],
   "source": [
    "result = cached(20)\n",
    "result['answer'] = 5+6\n",
    "# this is fine....\n",
    "print(result)\n",
    "# this is not\n",
    "print(cached(20))"
   ]
  },
  {
   "cell_type": "markdown",
   "id": "46d63e6f",
   "metadata": {},
   "source": [
    "🤯"
   ]
  },
  {
   "cell_type": "markdown",
   "id": "32339c2b",
   "metadata": {},
   "source": [
    "## Okay, what can we do about"
   ]
  }
 ],
 "metadata": {
  "kernelspec": {
   "display_name": "Python 3 (ipykernel)",
   "language": "python",
   "name": "python3"
  },
  "language_info": {
   "codemirror_mode": {
    "name": "ipython",
    "version": 3
   },
   "file_extension": ".py",
   "mimetype": "text/x-python",
   "name": "python",
   "nbconvert_exporter": "python",
   "pygments_lexer": "ipython3",
   "version": "3.9.7"
  }
 },
 "nbformat": 4,
 "nbformat_minor": 5
}
